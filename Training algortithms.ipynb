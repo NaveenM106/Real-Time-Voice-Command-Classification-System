{
 "cells": [
  {
   "cell_type": "code",
   "execution_count": 29,
   "metadata": {},
   "outputs": [],
   "source": [
    "from sklearn import datasets\n",
    "from sklearn.svm import SVC\n",
    "\n",
    "from sklearn.neighbors import KNeighborsClassifier\n",
    "from sklearn.tree import DecisionTreeClassifier\n",
    "from sklearn.linear_model import LogisticRegression\n",
    "from sklearn.neural_network import MLPClassifier\n",
    "from sklearn.discriminant_analysis import LinearDiscriminantAnalysis\n",
    "from sklearn.ensemble import RandomForestClassifier\n",
    "from sklearn.ensemble import GradientBoostingClassifier\n",
    "from sklearn.ensemble import AdaBoostClassifier\n",
    "\n",
    "import numpy as np\n",
    "from sklearn.model_selection import StratifiedKFold\n",
    "from sklearn.metrics import classification_report\n",
    "import numpy as np\n",
    "import pandas as pd"
   ]
  },
  {
   "cell_type": "code",
   "execution_count": 3,
   "metadata": {},
   "outputs": [],
   "source": [
    "jorge = np.loadtxt('c:/Users/jorge/OneDrive/Escritorio/SEM 4/Modelacion con IA/proyecto_1/datos_jorge.txt')"
   ]
  },
  {
   "cell_type": "code",
   "execution_count": 4,
   "metadata": {},
   "outputs": [],
   "source": [
    "x = jorge[:, 1:]\n",
    "y = jorge[:, 0]"
   ]
  },
  {
   "cell_type": "code",
   "execution_count": 5,
   "metadata": {},
   "outputs": [
    {
     "name": "stdout",
     "output_type": "stream",
     "text": [
      "              precision    recall  f1-score   support\n",
      "\n",
      "         1.0       0.90      0.90      0.90        30\n",
      "         2.0       0.75      0.90      0.82        30\n",
      "         3.0       0.97      1.00      0.98        30\n",
      "         4.0       0.96      0.83      0.89        30\n",
      "         5.0       1.00      1.00      1.00        30\n",
      "         6.0       1.00      0.90      0.95        30\n",
      "\n",
      "    accuracy                           0.92       180\n",
      "   macro avg       0.93      0.92      0.92       180\n",
      "weighted avg       0.93      0.92      0.92       180\n",
      "\n"
     ]
    }
   ],
   "source": [
    "## SVM LINEAL\n",
    "n_folds = 5\n",
    "kf = StratifiedKFold(n_splits=n_folds, shuffle = True)\n",
    "\n",
    "cv_y_test = []\n",
    "cv_y_pred = []\n",
    "\n",
    "for train_index, test_index in kf.split(x, y):\n",
    "    \n",
    "    # Training phase\n",
    "    x_train = x[train_index, :]\n",
    "    y_train = y[train_index]\n",
    "\n",
    "    clf_cv = SVC(kernel = 'linear')\n",
    "    clf_cv.fit(x_train, y_train)\n",
    "\n",
    "    # Test phase\n",
    "    x_test = x[test_index, :]\n",
    "    y_test = y[test_index]    \n",
    "    y_pred = clf_cv.predict(x_test)\n",
    "\n",
    "    # Concatenate results of evaluation\n",
    "    cv_y_test.append(y_test)\n",
    "    cv_y_pred.append(y_pred)   \n",
    "\n",
    "# Model performance\n",
    "print(classification_report(np.concatenate(cv_y_test), np.concatenate(cv_y_pred)))"
   ]
  },
  {
   "cell_type": "code",
   "execution_count": 6,
   "metadata": {},
   "outputs": [
    {
     "name": "stdout",
     "output_type": "stream",
     "text": [
      "              precision    recall  f1-score   support\n",
      "\n",
      "         1.0       0.61      0.83      0.70        30\n",
      "         2.0       0.65      0.57      0.61        30\n",
      "         3.0       0.88      0.93      0.90        30\n",
      "         4.0       0.93      0.90      0.92        30\n",
      "         5.0       0.93      0.87      0.90        30\n",
      "         6.0       0.79      0.63      0.70        30\n",
      "\n",
      "    accuracy                           0.79       180\n",
      "   macro avg       0.80      0.79      0.79       180\n",
      "weighted avg       0.80      0.79      0.79       180\n",
      "\n"
     ]
    }
   ],
   "source": [
    "## SVM BASE RADIAL\n",
    "n_folds = 5\n",
    "kf = StratifiedKFold(n_splits=n_folds, shuffle = True)\n",
    "\n",
    "cv_y_test = []\n",
    "cv_y_pred = []\n",
    "\n",
    "for train_index, test_index in kf.split(x, y):\n",
    "    \n",
    "    # Training phase\n",
    "    x_train = x[train_index, :]\n",
    "    y_train = y[train_index]\n",
    "\n",
    "    clf_cv = SVC(kernel ='rbf')\n",
    "    clf_cv.fit(x_train, y_train)\n",
    "\n",
    "    # Test phase\n",
    "    x_test = x[test_index, :]\n",
    "    y_test = y[test_index]    \n",
    "    y_pred = clf_cv.predict(x_test)\n",
    "\n",
    "    # Concatenate results of evaluation\n",
    "    cv_y_test.append(y_test)\n",
    "    cv_y_pred.append(y_pred)   \n",
    "\n",
    "# Model performance\n",
    "print(classification_report(np.concatenate(cv_y_test), np.concatenate(cv_y_pred)))"
   ]
  },
  {
   "cell_type": "code",
   "execution_count": 17,
   "metadata": {},
   "outputs": [
    {
     "name": "stdout",
     "output_type": "stream",
     "text": [
      "              precision    recall  f1-score   support\n",
      "\n",
      "         1.0       0.77      0.77      0.77        30\n",
      "         2.0       0.63      0.80      0.71        30\n",
      "         3.0       0.96      0.90      0.93        30\n",
      "         4.0       0.93      0.90      0.92        30\n",
      "         5.0       1.00      0.83      0.91        30\n",
      "         6.0       0.83      0.83      0.83        30\n",
      "\n",
      "    accuracy                           0.84       180\n",
      "   macro avg       0.85      0.84      0.84       180\n",
      "weighted avg       0.85      0.84      0.84       180\n",
      "\n"
     ]
    }
   ],
   "source": [
    "#LDA\n",
    "n_folds = 5\n",
    "kf = StratifiedKFold(n_splits=n_folds, shuffle = True)\n",
    "\n",
    "cv_y_test = []\n",
    "cv_y_pred = []\n",
    "\n",
    "for train_index, test_index in kf.split(x, y):\n",
    "    \n",
    "    # Training phase\n",
    "    x_train = x[train_index, :]\n",
    "    y_train = y[train_index]\n",
    "\n",
    "    clf_cv = LinearDiscriminantAnalysis()\n",
    "    clf_cv.fit(x_train, y_train)\n",
    "\n",
    "    # Test phase\n",
    "    x_test = x[test_index, :]\n",
    "    y_test = y[test_index]    \n",
    "    y_pred = clf_cv.predict(x_test)\n",
    "\n",
    "    # Concatenate results of evaluation\n",
    "    cv_y_test.append(y_test)\n",
    "    cv_y_pred.append(y_pred)   \n",
    "\n",
    "# Model performance\n",
    "print(classification_report(np.concatenate(cv_y_test), np.concatenate(cv_y_pred)))"
   ]
  },
  {
   "cell_type": "code",
   "execution_count": 14,
   "metadata": {},
   "outputs": [
    {
     "name": "stdout",
     "output_type": "stream",
     "text": [
      "              precision    recall  f1-score   support\n",
      "\n",
      "         1.0       0.69      0.90      0.78        30\n",
      "         2.0       0.80      0.80      0.80        30\n",
      "         3.0       0.93      0.93      0.93        30\n",
      "         4.0       0.93      0.93      0.93        30\n",
      "         5.0       1.00      0.83      0.91        30\n",
      "         6.0       0.92      0.80      0.86        30\n",
      "\n",
      "    accuracy                           0.87       180\n",
      "   macro avg       0.88      0.87      0.87       180\n",
      "weighted avg       0.88      0.87      0.87       180\n",
      "\n"
     ]
    }
   ],
   "source": [
    "## KNN k=5\n",
    "n_folds = 5\n",
    "kf = StratifiedKFold(n_splits=n_folds, shuffle = True)\n",
    "\n",
    "cv_y_test = []\n",
    "cv_y_pred = []\n",
    "\n",
    "for train_index, test_index in kf.split(x, y):\n",
    "    \n",
    "    # Training phase\n",
    "    x_train = x[train_index, :]\n",
    "    y_train = y[train_index]\n",
    "\n",
    "    clf_cv = KNeighborsClassifier(n_neighbors = 5)\n",
    "    clf_cv.fit(x_train, y_train)\n",
    "\n",
    "    # Test phase\n",
    "    x_test = x[test_index, :]\n",
    "    y_test = y[test_index]    \n",
    "    y_pred = clf_cv.predict(x_test)\n",
    "\n",
    "    # Concatenate results of evaluation\n",
    "    cv_y_test.append(y_test)\n",
    "    cv_y_pred.append(y_pred)   \n",
    "\n",
    "# Model performance\n",
    "print(classification_report(np.concatenate(cv_y_test), np.concatenate(cv_y_pred)))"
   ]
  },
  {
   "cell_type": "code",
   "execution_count": 9,
   "metadata": {},
   "outputs": [
    {
     "name": "stdout",
     "output_type": "stream",
     "text": [
      "              precision    recall  f1-score   support\n",
      "\n",
      "         1.0       0.00      0.00      0.00        30\n",
      "         2.0       0.17      0.20      0.18        30\n",
      "         3.0       0.17      0.20      0.18        30\n",
      "         4.0       0.00      0.00      0.00        30\n",
      "         5.0       0.17      0.20      0.18        30\n",
      "         6.0       0.17      0.40      0.24        30\n",
      "\n",
      "    accuracy                           0.17       180\n",
      "   macro avg       0.11      0.17      0.13       180\n",
      "weighted avg       0.11      0.17      0.13       180\n",
      "\n"
     ]
    },
    {
     "name": "stderr",
     "output_type": "stream",
     "text": [
      "c:\\Users\\jorge\\AppData\\Local\\Programs\\Python\\Python312\\Lib\\site-packages\\sklearn\\metrics\\_classification.py:1517: UndefinedMetricWarning: Precision is ill-defined and being set to 0.0 in labels with no predicted samples. Use `zero_division` parameter to control this behavior.\n",
      "  _warn_prf(average, modifier, f\"{metric.capitalize()} is\", len(result))\n",
      "c:\\Users\\jorge\\AppData\\Local\\Programs\\Python\\Python312\\Lib\\site-packages\\sklearn\\metrics\\_classification.py:1517: UndefinedMetricWarning: Precision is ill-defined and being set to 0.0 in labels with no predicted samples. Use `zero_division` parameter to control this behavior.\n",
      "  _warn_prf(average, modifier, f\"{metric.capitalize()} is\", len(result))\n",
      "c:\\Users\\jorge\\AppData\\Local\\Programs\\Python\\Python312\\Lib\\site-packages\\sklearn\\metrics\\_classification.py:1517: UndefinedMetricWarning: Precision is ill-defined and being set to 0.0 in labels with no predicted samples. Use `zero_division` parameter to control this behavior.\n",
      "  _warn_prf(average, modifier, f\"{metric.capitalize()} is\", len(result))\n"
     ]
    }
   ],
   "source": [
    "## Red perceptron multicapa\n",
    "# 5-fold cross-validation\n",
    "n_splits=5\n",
    "kf = StratifiedKFold(n_splits=n_splits, shuffle = True)\n",
    "\n",
    "cv_y_test = []\n",
    "cv_y_pred = []\n",
    "\n",
    "for train_index, test_index in kf.split(x, y):\n",
    "\n",
    "    # Training phase\n",
    "    x_train = x[train_index, :]\n",
    "    y_train = y[train_index]\n",
    "\n",
    "    clf_i = MLPClassifier(hidden_layer_sizes=(10, 10), max_iter=10000)\n",
    "    clf_i.fit(x_train, y_train)\n",
    "\n",
    "    # Test phase\n",
    "    x_test = x[test_index, :]\n",
    "    y_test = y[test_index]    \n",
    "    y_pred = clf_i.predict(x_test)\n",
    "\n",
    "    cv_y_test.append(y_test)\n",
    "    cv_y_pred.append(y_pred)\n",
    "\n",
    "print(classification_report(np.concatenate(cv_y_test), np.concatenate(cv_y_pred)))"
   ]
  },
  {
   "cell_type": "markdown",
   "metadata": {},
   "source": [
    "## Modelos no vistos en clase\n"
   ]
  },
  {
   "cell_type": "code",
   "execution_count": 18,
   "metadata": {},
   "outputs": [
    {
     "name": "stdout",
     "output_type": "stream",
     "text": [
      "              precision    recall  f1-score   support\n",
      "\n",
      "         1.0       0.57      0.53      0.55        30\n",
      "         2.0       0.39      0.40      0.39        30\n",
      "         3.0       0.72      0.70      0.71        30\n",
      "         4.0       0.47      0.57      0.52        30\n",
      "         5.0       0.68      0.57      0.62        30\n",
      "         6.0       0.42      0.43      0.43        30\n",
      "\n",
      "    accuracy                           0.53       180\n",
      "   macro avg       0.54      0.53      0.54       180\n",
      "weighted avg       0.54      0.53      0.54       180\n",
      "\n"
     ]
    }
   ],
   "source": [
    "## Decision Tree Classifier\n",
    "n_folds = 5\n",
    "kf = StratifiedKFold(n_splits=n_folds, shuffle = True)\n",
    "\n",
    "cv_y_test = []\n",
    "cv_y_pred = []\n",
    "\n",
    "for train_index, test_index in kf.split(x, y):\n",
    "    \n",
    "    # Training phase\n",
    "    x_train = x[train_index, :]\n",
    "    y_train = y[train_index]\n",
    "\n",
    "    clf_cv = DecisionTreeClassifier(random_state = 1234)\n",
    "    clf_cv.fit(x_train, y_train)\n",
    "\n",
    "    # Test phase\n",
    "    x_test = x[test_index, :]\n",
    "    y_test = y[test_index]    \n",
    "    y_pred = clf_cv.predict(x_test)\n",
    "\n",
    "    # Concatenate results of evaluation\n",
    "    cv_y_test.append(y_test)\n",
    "    cv_y_pred.append(y_pred)   \n",
    "\n",
    "# Model performance\n",
    "print(classification_report(np.concatenate(cv_y_test), np.concatenate(cv_y_pred)))"
   ]
  },
  {
   "cell_type": "code",
   "execution_count": 19,
   "metadata": {},
   "outputs": [
    {
     "name": "stdout",
     "output_type": "stream",
     "text": [
      "              precision    recall  f1-score   support\n",
      "\n",
      "         1.0       0.87      0.87      0.87        30\n",
      "         2.0       0.82      0.77      0.79        30\n",
      "         3.0       0.97      1.00      0.98        30\n",
      "         4.0       0.93      0.90      0.92        30\n",
      "         5.0       1.00      1.00      1.00        30\n",
      "         6.0       0.88      0.93      0.90        30\n",
      "\n",
      "    accuracy                           0.91       180\n",
      "   macro avg       0.91      0.91      0.91       180\n",
      "weighted avg       0.91      0.91      0.91       180\n",
      "\n"
     ]
    }
   ],
   "source": [
    "## Logistic Regression Classifier\n",
    "n_folds = 5\n",
    "kf = StratifiedKFold(n_splits=n_folds, shuffle = True)\n",
    "\n",
    "cv_y_test = []\n",
    "cv_y_pred = []\n",
    "\n",
    "for train_index, test_index in kf.split(x, y):\n",
    "    \n",
    "    # Training phase\n",
    "    x_train = x[train_index, :]\n",
    "    y_train = y[train_index]\n",
    "\n",
    "    clf_cv = LogisticRegression(random_state=1234)\n",
    "    clf_cv.fit(x_train, y_train)\n",
    "\n",
    "    # Test phase\n",
    "    x_test = x[test_index, :]\n",
    "    y_test = y[test_index]    \n",
    "    y_pred = clf_cv.predict(x_test)\n",
    "\n",
    "    # Concatenate results of evaluation\n",
    "    cv_y_test.append(y_test)\n",
    "    cv_y_pred.append(y_pred)   \n",
    "\n",
    "# Model performance\n",
    "print(classification_report(np.concatenate(cv_y_test), np.concatenate(cv_y_pred)))"
   ]
  },
  {
   "cell_type": "code",
   "execution_count": 22,
   "metadata": {},
   "outputs": [
    {
     "name": "stdout",
     "output_type": "stream",
     "text": [
      "              precision    recall  f1-score   support\n",
      "\n",
      "         1.0       0.74      0.93      0.82        30\n",
      "         2.0       0.83      0.67      0.74        30\n",
      "         3.0       0.97      0.93      0.95        30\n",
      "         4.0       1.00      0.90      0.95        30\n",
      "         5.0       1.00      1.00      1.00        30\n",
      "         6.0       0.78      0.83      0.81        30\n",
      "\n",
      "    accuracy                           0.88       180\n",
      "   macro avg       0.89      0.88      0.88       180\n",
      "weighted avg       0.89      0.88      0.88       180\n",
      "\n"
     ]
    }
   ],
   "source": [
    "## Random Forest Classifier\n",
    "n_folds = 5\n",
    "kf = StratifiedKFold(n_splits=n_folds, shuffle = True)\n",
    "\n",
    "cv_y_test = []\n",
    "cv_y_pred = []\n",
    "\n",
    "for train_index, test_index in kf.split(x, y):\n",
    "    \n",
    "    # Training phase\n",
    "    x_train = x[train_index, :]\n",
    "    y_train = y[train_index]\n",
    "\n",
    "    clf_cv = RandomForestClassifier()\n",
    "    clf_cv.fit(x_train, y_train)\n",
    "\n",
    "    # Test phase\n",
    "    x_test = x[test_index, :]\n",
    "    y_test = y[test_index]    \n",
    "    y_pred = clf_cv.predict(x_test)\n",
    "\n",
    "    # Concatenate results of evaluation\n",
    "    cv_y_test.append(y_test)\n",
    "    cv_y_pred.append(y_pred)   \n",
    "\n",
    "# Model performance\n",
    "print(classification_report(np.concatenate(cv_y_test), np.concatenate(cv_y_pred)))"
   ]
  },
  {
   "cell_type": "code",
   "execution_count": 31,
   "metadata": {},
   "outputs": [
    {
     "name": "stdout",
     "output_type": "stream",
     "text": [
      "              precision    recall  f1-score   support\n",
      "\n",
      "         1.0       0.67      0.80      0.73        30\n",
      "         2.0       0.70      0.70      0.70        30\n",
      "         3.0       0.97      0.93      0.95        30\n",
      "         4.0       0.96      0.90      0.93        30\n",
      "         5.0       1.00      0.90      0.95        30\n",
      "         6.0       0.87      0.87      0.87        30\n",
      "\n",
      "    accuracy                           0.85       180\n",
      "   macro avg       0.86      0.85      0.85       180\n",
      "weighted avg       0.86      0.85      0.85       180\n",
      "\n"
     ]
    }
   ],
   "source": [
    "## SVM con Kernel Polinómico\n",
    "n_folds = 5\n",
    "kf = StratifiedKFold(n_splits=n_folds, shuffle = True)\n",
    "\n",
    "cv_y_test = []\n",
    "cv_y_pred = []\n",
    "\n",
    "for train_index, test_index in kf.split(x, y):\n",
    "    \n",
    "    # Training phase\n",
    "    x_train = x[train_index, :]\n",
    "    y_train = y[train_index]\n",
    "\n",
    "    clf_cv = SVC(kernel='poly', degree=3, random_state=1234)\n",
    "    clf_cv.fit(x_train, y_train)\n",
    "\n",
    "    # Test phase\n",
    "    x_test = x[test_index, :]\n",
    "    y_test = y[test_index]    \n",
    "    y_pred = clf_cv.predict(x_test)\n",
    "\n",
    "    # Concatenate results of evaluation\n",
    "    cv_y_test.append(y_test)\n",
    "    cv_y_pred.append(y_pred)   \n",
    "\n",
    "# Model performance\n",
    "print(classification_report(np.concatenate(cv_y_test), np.concatenate(cv_y_pred)))"
   ]
  },
  {
   "cell_type": "code",
   "execution_count": 30,
   "metadata": {},
   "outputs": [
    {
     "name": "stderr",
     "output_type": "stream",
     "text": [
      "c:\\Users\\jorge\\AppData\\Local\\Programs\\Python\\Python312\\Lib\\site-packages\\sklearn\\ensemble\\_weight_boosting.py:527: FutureWarning: The SAMME.R algorithm (the default) is deprecated and will be removed in 1.6. Use the SAMME algorithm to circumvent this warning.\n",
      "  warnings.warn(\n",
      "c:\\Users\\jorge\\AppData\\Local\\Programs\\Python\\Python312\\Lib\\site-packages\\sklearn\\ensemble\\_weight_boosting.py:527: FutureWarning: The SAMME.R algorithm (the default) is deprecated and will be removed in 1.6. Use the SAMME algorithm to circumvent this warning.\n",
      "  warnings.warn(\n",
      "c:\\Users\\jorge\\AppData\\Local\\Programs\\Python\\Python312\\Lib\\site-packages\\sklearn\\ensemble\\_weight_boosting.py:527: FutureWarning: The SAMME.R algorithm (the default) is deprecated and will be removed in 1.6. Use the SAMME algorithm to circumvent this warning.\n",
      "  warnings.warn(\n",
      "c:\\Users\\jorge\\AppData\\Local\\Programs\\Python\\Python312\\Lib\\site-packages\\sklearn\\ensemble\\_weight_boosting.py:527: FutureWarning: The SAMME.R algorithm (the default) is deprecated and will be removed in 1.6. Use the SAMME algorithm to circumvent this warning.\n",
      "  warnings.warn(\n",
      "c:\\Users\\jorge\\AppData\\Local\\Programs\\Python\\Python312\\Lib\\site-packages\\sklearn\\ensemble\\_weight_boosting.py:527: FutureWarning: The SAMME.R algorithm (the default) is deprecated and will be removed in 1.6. Use the SAMME algorithm to circumvent this warning.\n",
      "  warnings.warn(\n"
     ]
    },
    {
     "name": "stdout",
     "output_type": "stream",
     "text": [
      "              precision    recall  f1-score   support\n",
      "\n",
      "         1.0       0.20      0.53      0.29        30\n",
      "         2.0       0.00      0.00      0.00        30\n",
      "         3.0       0.77      0.33      0.47        30\n",
      "         4.0       0.30      0.10      0.15        30\n",
      "         5.0       0.33      0.50      0.40        30\n",
      "         6.0       0.20      0.20      0.20        30\n",
      "\n",
      "    accuracy                           0.28       180\n",
      "   macro avg       0.30      0.28      0.25       180\n",
      "weighted avg       0.30      0.28      0.25       180\n",
      "\n"
     ]
    }
   ],
   "source": [
    "## Ada Boost Classifier\n",
    "n_folds = 5\n",
    "kf = StratifiedKFold(n_splits=n_folds, shuffle = True)\n",
    "\n",
    "cv_y_test = []\n",
    "cv_y_pred = []\n",
    "\n",
    "for train_index, test_index in kf.split(x, y):\n",
    "    \n",
    "    # Training phase\n",
    "    x_train = x[train_index, :]\n",
    "    y_train = y[train_index]\n",
    "\n",
    "    clf_cv = AdaBoostClassifier(n_estimators=100, random_state=1234)\n",
    "    clf_cv.fit(x_train, y_train)\n",
    "\n",
    "    # Test phase\n",
    "    x_test = x[test_index, :]\n",
    "    y_test = y[test_index]    \n",
    "    y_pred = clf_cv.predict(x_test)\n",
    "\n",
    "    # Concatenate results of evaluation\n",
    "    cv_y_test.append(y_test)\n",
    "    cv_y_pred.append(y_pred)   \n",
    "\n",
    "# Model performance\n",
    "print(classification_report(np.concatenate(cv_y_test), np.concatenate(cv_y_pred)))"
   ]
  },
  {
   "cell_type": "markdown",
   "metadata": {},
   "source": [
    "## Optimización de modelos\n"
   ]
  },
  {
   "cell_type": "markdown",
   "metadata": {},
   "source": []
  },
  {
   "cell_type": "code",
   "execution_count": 34,
   "metadata": {},
   "outputs": [],
   "source": [
    "# Functions to perform nested cross-validation\n",
    "from sklearn.model_selection import cross_validate\n",
    "\n",
    "\n",
    "def nested_cv_knn(X, y, best_k):\n",
    "    knn = KNeighborsClassifier(n_neighbors=best_k)\n",
    "    nested_score = cross_validate(knn, X, y, cv=5, scoring='accuracy', return_train_score=True)\n",
    "    return nested_score"
   ]
  },
  {
   "cell_type": "code",
   "execution_count": 37,
   "metadata": {},
   "outputs": [
    {
     "data": {
      "image/png": "[encoded data removed]",
      "text/plain": [
       "<Figure size 1000x600 with 1 Axes>"
      ]
     },
     "metadata": {},
     "output_type": "display_data"
    },
    {
     "name": "stdout",
     "output_type": "stream",
     "text": [
      "Best k for K-NN: 3\n",
      "Nested Cross accuracy for K-NN: 0.8833333333333332\n"
     ]
    }
   ],
   "source": [
    "# code to find the best k for K-NN\n",
    "from matplotlib import pyplot as plt\n",
    "from sklearn.model_selection import cross_val_score\n",
    "\n",
    "\n",
    "k_range = range(1, 41)\n",
    "k_scores = []\n",
    "\n",
    "for k in k_range:\n",
    "    knn = KNeighborsClassifier(n_neighbors=k)\n",
    "    scores = cross_val_score(knn, x, y, cv=5, scoring='accuracy')\n",
    "    k_scores.append(scores.mean())\n",
    "    \n",
    "# Plot\n",
    "plt.figure(figsize=(10, 6))\n",
    "plt.plot(k_range, k_scores, marker='o')\n",
    "plt.xlabel('Value of K for K-NN')\n",
    "plt.ylabel('Cross-Validation Accuracy')\n",
    "plt.title('K-NN: Value of K vs. Cross-Validation Accuracy')\n",
    "plt.show()\n",
    "\n",
    "best_k = k_range[np.argmax(k_scores)]\n",
    "knn_nested_score = nested_cv_knn(x, y, best_k)\n",
    "\n",
    "print(f'Best k for K-NN: {best_k}')\n",
    "print(f'Nested Cross accuracy for K-NN: {np.mean(knn_nested_score[\"test_score\"])}')"
   ]
  }
 ],
 "metadata": {
  "kernelspec": {
   "display_name": "Python 3",
   "language": "python",
   "name": "python3"
  },
  "language_info": {
   "codemirror_mode": {
    "name": "ipython",
    "version": 3
   },
   "file_extension": ".py",
   "mimetype": "text/x-python",
   "name": "python",
   "nbconvert_exporter": "python",
   "pygments_lexer": "ipython3",
   "version": "3.12.3"
  }
 },
 "nbformat": 4,
 "nbformat_minor": 2
}
